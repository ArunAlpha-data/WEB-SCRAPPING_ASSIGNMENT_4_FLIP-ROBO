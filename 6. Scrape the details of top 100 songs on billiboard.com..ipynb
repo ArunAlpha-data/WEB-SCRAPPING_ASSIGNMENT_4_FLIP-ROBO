{
 "cells": [
  {
   "cell_type": "markdown",
   "metadata": {},
   "source": [
    "# 6. To Scrape the details of top 100 songs on billiboard.com."
   ]
  },
  {
   "cell_type": "code",
   "execution_count": 1,
   "metadata": {},
   "outputs": [],
   "source": [
    "# importing required libraries.\n",
    "import pandas as pd\n",
    "import selenium\n",
    "import time\n",
    "\n",
    "#importing Webdriver\n",
    "from selenium import webdriver\n",
    "\n",
    "#importing Exception Handling\n",
    "from selenium.common.exceptions import NoSuchElementException"
   ]
  },
  {
   "cell_type": "code",
   "execution_count": 2,
   "metadata": {},
   "outputs": [],
   "source": [
    "#connecting the web driver.\n",
    "driver=webdriver.Chrome(r'C:\\Program Files (x86)\\chromedriver_win32\\chromedriver.exe')"
   ]
  },
  {
   "cell_type": "code",
   "execution_count": 3,
   "metadata": {},
   "outputs": [],
   "source": [
    "#connecting the website.\n",
    "driver.get('https://www.billboard.com/')"
   ]
  },
  {
   "cell_type": "code",
   "execution_count": 4,
   "metadata": {},
   "outputs": [],
   "source": [
    "#creating empty list\n",
    "Song_Name=[]\n",
    "Artist_Name=[]\n",
    "Last_week_rank=[]\n",
    "Peak_rank=[]\n",
    "Weeks_on_Charts=[]"
   ]
  },
  {
   "cell_type": "code",
   "execution_count": 5,
   "metadata": {},
   "outputs": [],
   "source": [
    "#clicking the Charts button\n",
    "charts=driver.find_element_by_xpath(\"//*[@id='root']/div[2]/div[2]/header/div/ul/li[1]/a\")\n",
    "charts.click()\n",
    "time.sleep(2)\n",
    "\n",
    "#clicking the HOT 100 button\n",
    "hot100=driver.find_element_by_xpath(\"//*[@id='main']/div[2]/div/div[1]/a/div[2]/div[2]/div[1]\")\n",
    "hot100.click()"
   ]
  },
  {
   "cell_type": "code",
   "execution_count": 6,
   "metadata": {},
   "outputs": [],
   "source": [
    "#creating the song name list\n",
    "song_name=driver.find_elements_by_xpath(\"//*[@id='charts']/div/div[7]/div/ol/li/button/span[2]/span[1]\")\n",
    "for i in song_name:\n",
    "    try:\n",
    "        Song_Name.append(i.text)\n",
    "    except:\n",
    "        Song_Name.append(\"-\")"
   ]
  },
  {
   "cell_type": "code",
   "execution_count": 7,
   "metadata": {},
   "outputs": [],
   "source": [
    "#creating the Artist name list\n",
    "artist=driver.find_elements_by_xpath(\"//*[@id='charts']/div/div[7]/div/ol/li/button/span[2]/span[2]\")\n",
    "for i in artist:\n",
    "    try:\n",
    "        Artist_Name.append(i.text)\n",
    "    except:\n",
    "        Artist_Name.append(\"-\")"
   ]
  },
  {
   "cell_type": "code",
   "execution_count": 8,
   "metadata": {},
   "outputs": [],
   "source": [
    "#creating the last week rank\n",
    "last_week=driver.find_elements_by_xpath(\"//*[@id='charts']/div/div[7]/div/ol/li/button/div/div[2]\")\n",
    "for i in last_week:\n",
    "    try:\n",
    "        Last_week_rank.append(i.text)\n",
    "    except:\n",
    "        Last_week_rank.append(\"-\")"
   ]
  },
  {
   "cell_type": "code",
   "execution_count": 9,
   "metadata": {},
   "outputs": [],
   "source": [
    "#creating the peak rank list\n",
    "peak=driver.find_elements_by_xpath(\"//*[@id='charts']/div/div[7]/div/ol/li/button/div/div[3]\")\n",
    "for i in peak:\n",
    "    try:\n",
    "        Peak_rank.append(i.text)\n",
    "    except:\n",
    "        Peak_rank.append(\"-\")"
   ]
  },
  {
   "cell_type": "code",
   "execution_count": 10,
   "metadata": {},
   "outputs": [],
   "source": [
    "#creating weeks on charts list\n",
    "charts=driver.find_elements_by_xpath(\"//div[@class='chart-element__meta text--center color--secondary text--week']\")\n",
    "for i in charts:\n",
    "    try:\n",
    "        Weeks_on_Charts.append(i.text)\n",
    "    except:\n",
    "        Weeks_on_Charts.append(\"-\")"
   ]
  },
  {
   "cell_type": "code",
   "execution_count": 13,
   "metadata": {},
   "outputs": [],
   "source": [
    "#creating the data frame\n",
    "Top_100_songs=pd.DataFrame([])\n",
    "Top_100_songs[\"Song_Name\"]=Song_Name\n",
    "Top_100_songs[\"Artist_Name\"]=Artist_Name\n",
    "Top_100_songs[\"Last_week_rank\"]=Last_week_rank\n",
    "Top_100_songs[\"Peak_rank\"]=Peak_rank\n",
    "Top_100_songs[\"Weeks_on_Charts\"]=Weeks_on_Charts"
   ]
  },
  {
   "cell_type": "code",
   "execution_count": 14,
   "metadata": {},
   "outputs": [
    {
     "data": {
      "text/html": [
       "<div>\n",
       "<style scoped>\n",
       "    .dataframe tbody tr th:only-of-type {\n",
       "        vertical-align: middle;\n",
       "    }\n",
       "\n",
       "    .dataframe tbody tr th {\n",
       "        vertical-align: top;\n",
       "    }\n",
       "\n",
       "    .dataframe thead th {\n",
       "        text-align: right;\n",
       "    }\n",
       "</style>\n",
       "<table border=\"1\" class=\"dataframe\">\n",
       "  <thead>\n",
       "    <tr style=\"text-align: right;\">\n",
       "      <th></th>\n",
       "      <th>Song_Name</th>\n",
       "      <th>Artist_Name</th>\n",
       "      <th>Last_week_rank</th>\n",
       "      <th>Peak_rank</th>\n",
       "      <th>Weeks_on_Charts</th>\n",
       "    </tr>\n",
       "  </thead>\n",
       "  <tbody>\n",
       "    <tr>\n",
       "      <th>0</th>\n",
       "      <td>Save Your Tears</td>\n",
       "      <td>The Weeknd &amp; Ariana Grande</td>\n",
       "      <td>6</td>\n",
       "      <td>1</td>\n",
       "      <td>20</td>\n",
       "    </tr>\n",
       "    <tr>\n",
       "      <th>1</th>\n",
       "      <td>Leave The Door Open</td>\n",
       "      <td>Silk Sonic (Bruno Mars &amp; Anderson .Paak)</td>\n",
       "      <td>2</td>\n",
       "      <td>1</td>\n",
       "      <td>8</td>\n",
       "    </tr>\n",
       "    <tr>\n",
       "      <th>2</th>\n",
       "      <td>Peaches</td>\n",
       "      <td>Justin Bieber Featuring Daniel Caesar &amp; Giveon</td>\n",
       "      <td>3</td>\n",
       "      <td>1</td>\n",
       "      <td>6</td>\n",
       "    </tr>\n",
       "    <tr>\n",
       "      <th>3</th>\n",
       "      <td>Rapstar</td>\n",
       "      <td>Polo G</td>\n",
       "      <td>1</td>\n",
       "      <td>3</td>\n",
       "      <td>3</td>\n",
       "    </tr>\n",
       "    <tr>\n",
       "      <th>4</th>\n",
       "      <td>Levitating</td>\n",
       "      <td>Dua Lipa Featuring DaBaby</td>\n",
       "      <td>5</td>\n",
       "      <td>5</td>\n",
       "      <td>30</td>\n",
       "    </tr>\n",
       "    <tr>\n",
       "      <th>...</th>\n",
       "      <td>...</td>\n",
       "      <td>...</td>\n",
       "      <td>...</td>\n",
       "      <td>...</td>\n",
       "      <td>...</td>\n",
       "    </tr>\n",
       "    <tr>\n",
       "      <th>95</th>\n",
       "      <td>4 Da Gang</td>\n",
       "      <td>42 Dugg &amp; Roddy Ricch</td>\n",
       "      <td>100</td>\n",
       "      <td>67</td>\n",
       "      <td>4</td>\n",
       "    </tr>\n",
       "    <tr>\n",
       "      <th>96</th>\n",
       "      <td>Blame It On You</td>\n",
       "      <td>Jason Aldean</td>\n",
       "      <td>-</td>\n",
       "      <td>97</td>\n",
       "      <td>1</td>\n",
       "    </tr>\n",
       "    <tr>\n",
       "      <th>97</th>\n",
       "      <td>Wasted On You</td>\n",
       "      <td>Morgan Wallen</td>\n",
       "      <td>9</td>\n",
       "      <td>16</td>\n",
       "      <td>16</td>\n",
       "    </tr>\n",
       "    <tr>\n",
       "      <th>98</th>\n",
       "      <td>Way Less Sad</td>\n",
       "      <td>AJR</td>\n",
       "      <td>-</td>\n",
       "      <td>99</td>\n",
       "      <td>1</td>\n",
       "    </tr>\n",
       "    <tr>\n",
       "      <th>99</th>\n",
       "      <td>Clear Da Air</td>\n",
       "      <td>Moneybagg Yo</td>\n",
       "      <td>-</td>\n",
       "      <td>100</td>\n",
       "      <td>1</td>\n",
       "    </tr>\n",
       "  </tbody>\n",
       "</table>\n",
       "<p>100 rows × 5 columns</p>\n",
       "</div>"
      ],
      "text/plain": [
       "              Song_Name                                     Artist_Name  \\\n",
       "0       Save Your Tears                      The Weeknd & Ariana Grande   \n",
       "1   Leave The Door Open        Silk Sonic (Bruno Mars & Anderson .Paak)   \n",
       "2               Peaches  Justin Bieber Featuring Daniel Caesar & Giveon   \n",
       "3               Rapstar                                          Polo G   \n",
       "4            Levitating                       Dua Lipa Featuring DaBaby   \n",
       "..                  ...                                             ...   \n",
       "95            4 Da Gang                           42 Dugg & Roddy Ricch   \n",
       "96      Blame It On You                                    Jason Aldean   \n",
       "97        Wasted On You                                   Morgan Wallen   \n",
       "98         Way Less Sad                                             AJR   \n",
       "99         Clear Da Air                                    Moneybagg Yo   \n",
       "\n",
       "   Last_week_rank Peak_rank Weeks_on_Charts  \n",
       "0               6         1              20  \n",
       "1               2         1               8  \n",
       "2               3         1               6  \n",
       "3               1         3               3  \n",
       "4               5         5              30  \n",
       "..            ...       ...             ...  \n",
       "95            100        67               4  \n",
       "96              -        97               1  \n",
       "97              9        16              16  \n",
       "98              -        99               1  \n",
       "99              -       100               1  \n",
       "\n",
       "[100 rows x 5 columns]"
      ]
     },
     "execution_count": 14,
     "metadata": {},
     "output_type": "execute_result"
    }
   ],
   "source": [
    "#data frame\n",
    "Top_100_songs"
   ]
  },
  {
   "cell_type": "code",
   "execution_count": null,
   "metadata": {},
   "outputs": [],
   "source": []
  }
 ],
 "metadata": {
  "kernelspec": {
   "display_name": "Python 3",
   "language": "python",
   "name": "python3"
  },
  "language_info": {
   "codemirror_mode": {
    "name": "ipython",
    "version": 3
   },
   "file_extension": ".py",
   "mimetype": "text/x-python",
   "name": "python",
   "nbconvert_exporter": "python",
   "pygments_lexer": "ipython3",
   "version": "3.8.3"
  }
 },
 "nbformat": 4,
 "nbformat_minor": 4
}
